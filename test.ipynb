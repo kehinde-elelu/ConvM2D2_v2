{
 "cells": [
  {
   "cell_type": "code",
   "execution_count": 1,
   "id": "a5d820f5",
   "metadata": {},
   "outputs": [
    {
     "name": "stdout",
     "output_type": "stream",
     "text": [
      "tensor([[0.9844, 0.5834, 0.5408],\n",
      "        [0.7734, 0.8265, 0.0402],\n",
      "        [0.5957, 0.6189, 0.9299],\n",
      "        [0.0072, 0.7148, 0.4223],\n",
      "        [0.6532, 0.5504, 0.2713]])\n"
     ]
    }
   ],
   "source": [
    "import torch\n",
    "x = torch.rand(5, 3)\n",
    "print(x)"
   ]
  },
  {
   "cell_type": "code",
   "execution_count": 2,
   "id": "e4bcf464",
   "metadata": {},
   "outputs": [
    {
     "name": "stdout",
     "output_type": "stream",
     "text": [
      "2.8.0+cu128\n",
      "12.8\n",
      "True\n"
     ]
    }
   ],
   "source": [
    "import torch\n",
    "print(torch.__version__)       # PyTorch version\n",
    "print(torch.version.cuda)      # CUDA version PyTorch was built with\n",
    "print(torch.cuda.is_available())  # Should be True if GPU is working\n"
   ]
  },
  {
   "cell_type": "code",
   "execution_count": 3,
   "id": "2c0a9e5a",
   "metadata": {},
   "outputs": [
    {
     "name": "stdout",
     "output_type": "stream",
     "text": [
      "2.8.0+cu128\n",
      "2.8.0+cu128\n",
      "True\n"
     ]
    }
   ],
   "source": [
    "import torch, torchaudio\n",
    "print(torch.__version__)           # should be 2.8.0+cu128\n",
    "print(torchaudio.__version__)      # should be 2.8.0+cu128\n",
    "print(torch.cuda.is_available())   # True\n"
   ]
  }
 ],
 "metadata": {
  "kernelspec": {
   "display_name": "env",
   "language": "python",
   "name": "python3"
  },
  "language_info": {
   "codemirror_mode": {
    "name": "ipython",
    "version": 3
   },
   "file_extension": ".py",
   "mimetype": "text/x-python",
   "name": "python",
   "nbconvert_exporter": "python",
   "pygments_lexer": "ipython3",
   "version": "3.12.9"
  }
 },
 "nbformat": 4,
 "nbformat_minor": 5
}
